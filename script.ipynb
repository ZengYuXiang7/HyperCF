{
 "cells": [
  {
   "cell_type": "code",
   "outputs": [
    {
     "name": "stdout",
     "output_type": "stream",
     "text": [
      "合并子图的节点: tensor([0, 1, 2, 3, 4, 5])\n",
      "合并子图的边: (tensor([0, 1, 1, 2, 2, 3, 4, 4, 5, 5]), tensor([1, 2, 4, 3, 0, 4, 5, 5, 4, 2]))\n",
      "原始图的节点索引: tensor([0, 1, 2, 3, 4, 5])\n"
     ]
    }
   ],
   "source": [
    "import dgl\n",
    "import torch\n",
    "\n",
    "def get_subgraph(graph, indices):\n",
    "    k = 2\n",
    "    # 提取入向k跳子图\n",
    "    subgraph_in, _ = dgl.khop_in_subgraph(graph, indices, k)\n",
    "\n",
    "    # 提取出向k跳子图\n",
    "    subgraph_out, _ = dgl.khop_out_subgraph(graph, indices, k)\n",
    "\n",
    "    # 合并两个子图的节点\n",
    "    nodes_union = torch.unique(torch.cat([subgraph_in.nodes(), subgraph_out.nodes()], dim=0))\n",
    "    subgraph_union = graph.subgraph(nodes_union)\n",
    "\n",
    "    # 在子图中标记原始图的节点索引\n",
    "    subgraph_union.ndata['original_indices'] = nodes_union\n",
    "\n",
    "    return subgraph_union\n",
    "\n",
    "# 创建一个示例图\n",
    "src = torch.tensor([0, 1, 2, 3, 1, 4, 5, 4, 5, 2, 0, 6, 6, 7, 7, 8, 8, 9])\n",
    "dst = torch.tensor([1, 2, 3, 4, 4, 5, 4, 5, 2, 0, 6, 7, 8, 9, 6, 7, 9, 6])\n",
    "g = dgl.graph((src, dst))\n",
    "\n",
    "# 测试代码\n",
    "indices = torch.tensor([1, 4])  # 选择节点 1 和 4\n",
    "subgraph_union = get_subgraph(g, indices)\n",
    "print(\"合并子图的节点:\", subgraph_union.nodes())\n",
    "print(\"合并子图的边:\", subgraph_union.edges())\n",
    "print(\"原始图的节点索引:\", subgraph_union.ndata['original_indices'])\n"
   ],
   "metadata": {
    "collapsed": false,
    "ExecuteTime": {
     "end_time": "2024-04-18T11:09:07.493387Z",
     "start_time": "2024-04-18T11:09:07.466177Z"
    }
   },
   "id": "b9533614ab79ccc",
   "execution_count": 16
  },
  {
   "cell_type": "code",
   "outputs": [],
   "source": [],
   "metadata": {
    "collapsed": false,
    "ExecuteTime": {
     "end_time": "2024-04-18T11:09:07.496246Z",
     "start_time": "2024-04-18T11:09:07.477314Z"
    }
   },
   "id": "f786787a391e7852",
   "execution_count": 16
  },
  {
   "cell_type": "code",
   "outputs": [
    {
     "data": {
      "text/plain": "Graph(num_nodes=100, num_edges=300,\n      ndata_schemes={}\n      edata_schemes={})"
     },
     "execution_count": 17,
     "metadata": {},
     "output_type": "execute_result"
    }
   ],
   "source": [
    "import torch\n",
    "import dgl \n",
    "num_nodes, num_edges = 100, 200\n",
    "src_nodes = torch.randint(0, num_nodes, (num_edges,))\n",
    "dst_nodes = torch.randint(0, num_nodes, (num_edges,))\n",
    "graph = dgl.graph((src_nodes, dst_nodes))\n",
    "graph = dgl.add_self_loop(graph)\n",
    "graph"
   ],
   "metadata": {
    "collapsed": false,
    "ExecuteTime": {
     "end_time": "2024-04-18T11:09:07.496550Z",
     "start_time": "2024-04-18T11:09:07.481856Z"
    }
   },
   "id": "cb872ac8605c7107",
   "execution_count": 17
  },
  {
   "cell_type": "code",
   "outputs": [
    {
     "data": {
      "text/plain": "100"
     },
     "execution_count": 18,
     "metadata": {},
     "output_type": "execute_result"
    }
   ],
   "source": [
    "graph.num_nodes()"
   ],
   "metadata": {
    "collapsed": false,
    "ExecuteTime": {
     "end_time": "2024-04-18T11:09:07.496800Z",
     "start_time": "2024-04-18T11:09:07.486525Z"
    }
   },
   "id": "9d20339cde50f06",
   "execution_count": 18
  },
  {
   "cell_type": "code",
   "outputs": [
    {
     "data": {
      "text/plain": "Graph(num_nodes=100, num_edges=300,\n      ndata_schemes={'features': Scheme(shape=(128,), dtype=torch.float32)}\n      edata_schemes={})"
     },
     "execution_count": 19,
     "metadata": {},
     "output_type": "execute_result"
    }
   ],
   "source": [
    "graph.ndata['features'] = torch.randn(graph.number_of_nodes(), 128)\n",
    "graph"
   ],
   "metadata": {
    "collapsed": false,
    "ExecuteTime": {
     "end_time": "2024-04-18T11:09:07.497039Z",
     "start_time": "2024-04-18T11:09:07.489634Z"
    }
   },
   "id": "4d656c9f87faa59b",
   "execution_count": 19
  },
  {
   "cell_type": "code",
   "outputs": [
    {
     "data": {
      "text/plain": "tensor([ 0,  1,  2,  3,  4,  5,  6,  7,  8,  9, 10, 11, 12, 13, 14, 15, 16, 17,\n        18, 19, 20, 21, 22, 23, 24, 25, 26, 27, 28, 29, 30, 31, 32, 33, 34, 35,\n        36, 37, 38, 39, 40, 41, 42, 43, 44, 45, 46, 47, 48, 49, 50, 51, 52, 53,\n        54, 55, 56, 57, 58, 59, 60, 61, 62, 63, 64, 65, 66, 67, 68, 69, 70, 71,\n        72, 73, 74, 75, 76, 77, 78, 79, 80, 81, 82, 83, 84, 85, 86, 87, 88, 89,\n        90, 91, 92, 93, 94, 95, 96, 97, 98, 99])"
     },
     "execution_count": 20,
     "metadata": {},
     "output_type": "execute_result"
    }
   ],
   "source": [
    "graph.nodes()"
   ],
   "metadata": {
    "collapsed": false,
    "ExecuteTime": {
     "end_time": "2024-04-18T11:09:07.505408Z",
     "start_time": "2024-04-18T11:09:07.493695Z"
    }
   },
   "id": "b1aeae1083a92d5c",
   "execution_count": 20
  },
  {
   "cell_type": "code",
   "outputs": [
    {
     "data": {
      "text/plain": "Graph(num_nodes=3, num_edges=3,\n      ndata_schemes={'features': Scheme(shape=(128,), dtype=torch.float32), '_ID': Scheme(shape=(), dtype=torch.int64)}\n      edata_schemes={'_ID': Scheme(shape=(), dtype=torch.int64)})"
     },
     "execution_count": 21,
     "metadata": {},
     "output_type": "execute_result"
    }
   ],
   "source": [
    "dgl.node_subgraph(graph, [1, 3, 5])"
   ],
   "metadata": {
    "collapsed": false,
    "ExecuteTime": {
     "end_time": "2024-04-18T11:09:07.528818Z",
     "start_time": "2024-04-18T11:09:07.498180Z"
    }
   },
   "id": "23d48cdfa355d8d4",
   "execution_count": 21
  },
  {
   "cell_type": "code",
   "outputs": [
    {
     "name": "stdout",
     "output_type": "stream",
     "text": [
      "(tensor([0, 1, 2]), tensor([0, 1, 2]))\n"
     ]
    }
   ],
   "source": [
    "print(dgl.node_subgraph(graph, [1, 3, 5]).edges())"
   ],
   "metadata": {
    "collapsed": false,
    "ExecuteTime": {
     "end_time": "2024-04-18T11:09:07.529264Z",
     "start_time": "2024-04-18T11:09:07.503207Z"
    }
   },
   "id": "d4d0f0eefef784f",
   "execution_count": 22
  },
  {
   "cell_type": "code",
   "outputs": [
    {
     "data": {
      "text/plain": "(tensor([0]), tensor([21, 11]))"
     },
     "execution_count": 23,
     "metadata": {},
     "output_type": "execute_result"
    }
   ],
   "source": [
    "dgl.bfs_nodes_generator(graph, [0])"
   ],
   "metadata": {
    "collapsed": false,
    "ExecuteTime": {
     "end_time": "2024-04-18T11:09:07.529628Z",
     "start_time": "2024-04-18T11:09:07.507444Z"
    }
   },
   "id": "252068b2cc67dc64",
   "execution_count": 23
  },
  {
   "cell_type": "code",
   "outputs": [
    {
     "data": {
      "text/plain": "(tensor([1]),)"
     },
     "execution_count": 24,
     "metadata": {},
     "output_type": "execute_result"
    }
   ],
   "source": [
    "dgl.bfs_nodes_generator(graph, [1])"
   ],
   "metadata": {
    "collapsed": false,
    "ExecuteTime": {
     "end_time": "2024-04-18T11:09:07.529935Z",
     "start_time": "2024-04-18T11:09:07.511075Z"
    }
   },
   "id": "1ca414b8325bccad",
   "execution_count": 24
  },
  {
   "cell_type": "code",
   "outputs": [
    {
     "data": {
      "text/plain": "torch.Size([1, 128])"
     },
     "execution_count": 25,
     "metadata": {},
     "output_type": "execute_result"
    }
   ],
   "source": [
    "dgl.readout_nodes(graph, 'features', op=\"mean\").shape"
   ],
   "metadata": {
    "collapsed": false,
    "ExecuteTime": {
     "end_time": "2024-04-18T11:09:07.553849Z",
     "start_time": "2024-04-18T11:09:07.530465Z"
    }
   },
   "id": "9ae722fe5ad9c18",
   "execution_count": 25
  },
  {
   "cell_type": "code",
   "outputs": [
    {
     "data": {
      "text/plain": "Graph(num_nodes=100, num_edges=300,\n      ndata_schemes={'features': Scheme(shape=(128,), dtype=torch.float32)}\n      edata_schemes={})"
     },
     "execution_count": 26,
     "metadata": {},
     "output_type": "execute_result"
    }
   ],
   "source": [
    "dgl.khop_graph(graph, 1)"
   ],
   "metadata": {
    "collapsed": false,
    "ExecuteTime": {
     "end_time": "2024-04-18T11:09:07.572377Z",
     "start_time": "2024-04-18T11:09:07.554196Z"
    }
   },
   "id": "e69771893d3ebe12",
   "execution_count": 26
  },
  {
   "cell_type": "code",
   "outputs": [
    {
     "data": {
      "text/plain": "tensor([0, 1, 2, 3, 4])"
     },
     "execution_count": 27,
     "metadata": {},
     "output_type": "execute_result"
    }
   ],
   "source": [
    "newgraph, _ = dgl.khop_in_subgraph(graph, [99], 2)\n",
    "newgraph.nodes()"
   ],
   "metadata": {
    "collapsed": false,
    "ExecuteTime": {
     "end_time": "2024-04-18T11:09:07.585905Z",
     "start_time": "2024-04-18T11:09:07.573924Z"
    }
   },
   "id": "e58e0a1c3bada91",
   "execution_count": 27
  },
  {
   "cell_type": "code",
   "outputs": [
    {
     "data": {
      "text/plain": "tensor([15, 26, 28, 70, 99])"
     },
     "execution_count": 34,
     "metadata": {},
     "output_type": "execute_result"
    }
   ],
   "source": [
    "new_idx = newgraph.ndata['_ID']\n",
    "new_idx"
   ],
   "metadata": {
    "collapsed": false,
    "ExecuteTime": {
     "end_time": "2024-04-18T11:23:45.800437Z",
     "start_time": "2024-04-18T11:23:45.795252Z"
    }
   },
   "id": "215f56c55d8021d7",
   "execution_count": 34
  },
  {
   "cell_type": "code",
   "outputs": [
    {
     "data": {
      "text/plain": "tensor([0, 1, 2, 3, 4])"
     },
     "execution_count": 29,
     "metadata": {},
     "output_type": "execute_result"
    }
   ],
   "source": [
    "new_idx = newgraph.nodes()"
   ],
   "metadata": {
    "collapsed": false,
    "ExecuteTime": {
     "end_time": "2024-04-18T11:09:07.586398Z",
     "start_time": "2024-04-18T11:09:07.580857Z"
    }
   },
   "id": "9e3428f598ff1daf",
   "execution_count": 29
  },
  {
   "cell_type": "code",
   "outputs": [
    {
     "data": {
      "text/plain": "{15: 0, 26: 1, 28: 2, 70: 3, 99: 4}"
     },
     "execution_count": 39,
     "metadata": {},
     "output_type": "execute_result"
    }
   ],
   "source": [
    "index_map = {int(original): i for i, original in enumerate(newgraph.ndata['_ID'].tolist())}\n",
    "index_map"
   ],
   "metadata": {
    "collapsed": false,
    "ExecuteTime": {
     "end_time": "2024-04-18T11:28:32.183979Z",
     "start_time": "2024-04-18T11:28:32.175760Z"
    }
   },
   "id": "6334cf4fff57d6b3",
   "execution_count": 39
  },
  {
   "cell_type": "code",
   "outputs": [],
   "source": [],
   "metadata": {
    "collapsed": false
   },
   "id": "ee9bfa5934261ce"
  }
 ],
 "metadata": {
  "kernelspec": {
   "display_name": "Python 3",
   "language": "python",
   "name": "python3"
  },
  "language_info": {
   "codemirror_mode": {
    "name": "ipython",
    "version": 2
   },
   "file_extension": ".py",
   "mimetype": "text/x-python",
   "name": "python",
   "nbconvert_exporter": "python",
   "pygments_lexer": "ipython2",
   "version": "2.7.6"
  }
 },
 "nbformat": 4,
 "nbformat_minor": 5
}
