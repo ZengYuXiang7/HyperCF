{
 "cells": [
  {
   "cell_type": "code",
   "outputs": [],
   "source": [
    "import pandas as pd\n",
    "from sklearn.ensemble import RandomForestRegressor\n",
    "from sklearn.model_selection import train_test_split\n",
    "from sklearn.metrics import mean_squared_error, r2_score\n",
    "import numpy as np\n",
    "# 导入数据\n",
    "dataraw=pd.read_csv(r\"E:\\桌面\\统计建模数据\\data21.csv\",encoding='utf-8')\n",
    "data=pd.DataFrame(dataraw,columns=['lninv', 'lninv_i','lninv_ui','csr', 'soe', 'size', 'age', 'dual', 'rd', 'leve', 'roe', 'indd', 'top1', 'jigou', 'meiti','csrsq'])\n",
    "# 进行特征转换，对数变换\n",
    "# data_transformed = data.copy()\n",
    "# data_transformed[['csr', 'soe', 'size', 'age', 'dual', 'rd', 'leve', 'roe', 'indd', 'top1', 'jigou', 'meiti']] = np.log1p(data[['csr', 'soe', 'size', 'age', 'dual', 'rd', 'leve', 'roe', 'indd', 'top1', 'jigou', 'meiti']])\n",
    "# 分割数据集为训练集和测试集\n",
    "X = data.drop(['lninv','lninv_i','lninv_ui','csrsq'], axis=1)  # 自变量\n",
    "y = data['lninv']  # 因变量\n",
    "\n",
    "mse_test=[]\n",
    "r2_test=[]\n",
    "oob_r2=[]\n",
    "#0，001测试集的r2最好0.9286060532724022，但是测试样本只有两个，0.007测试样本的r2较低，但是测试样本有15个0.8217251660858522\n",
    "X_train, X_test, y_train, y_test = train_test_split(X, y, test_size=0.007, random_state=389)\n",
    "\n",
    "# 创建带外数据的随机森林模型(如果用data21的数据，就是114和389的参数)\n",
    "# rf_oob = RandomForestRegressor(n_estimators=756, oob_score=True, random_state=409,max_depth=None,min_samples_leaf=1,min_samples_split=2)\n",
    "rf_oob = RandomForestRegressor(n_estimators=114, oob_score=True, random_state=389,max_depth=26,min_samples_leaf=1,min_samples_split=2)\n",
    "#在训练集上拟合模型，同时使用带外数据进行评估\n",
    "rf_oob.fit(X_train, y_train)\n",
    "\n",
    "    # 使用测试集进行预测\n",
    "y_pred_test = rf_oob.predict(X_test)\n",
    "y_pred_train=rf_oob.predict(X_train)\n",
    "\n",
    "    # 计算均方误差和决定系数\n",
    "mse_train=mean_squared_error(y_train,y_pred_train)\n",
    "r2_train=r2_score(y_train,y_pred_train)\n",
    "mse_test.append(mean_squared_error(y_test, y_pred_test))\n",
    "r2_test.append(r2_score(y_test, y_pred_test))\n",
    "oob_predictions = rf_oob.oob_prediction_\n",
    "oob_mse_train = mean_squared_error(y_train, oob_predictions)\n",
    "    # 访问带外数据上的决定系数\n",
    "oob_r2.append(rf_oob.oob_score_)\n",
    "\n",
    "\n",
    "print(f\"训练集的均方误差: {mse_train}\")\n",
    "print(f\"测试集的均方误差: {mse_test}\")\n",
    "print(f\"训练集上R²: {r2_train}\")\n",
    "print(f\"测试集上R²: {r2_test}\")\n",
    "print(f\"OOB训练集的均方误差: {oob_mse_train}\")\n",
    "print(f\"OOB测试集上的R²: {oob_r2}\")"
   ],
   "metadata": {
    "collapsed": false
   },
   "id": "b9533614ab79ccc"
  }
 ],
 "metadata": {
  "kernelspec": {
   "display_name": "Python 3",
   "language": "python",
   "name": "python3"
  },
  "language_info": {
   "codemirror_mode": {
    "name": "ipython",
    "version": 2
   },
   "file_extension": ".py",
   "mimetype": "text/x-python",
   "name": "python",
   "nbconvert_exporter": "python",
   "pygments_lexer": "ipython2",
   "version": "2.7.6"
  }
 },
 "nbformat": 4,
 "nbformat_minor": 5
}
